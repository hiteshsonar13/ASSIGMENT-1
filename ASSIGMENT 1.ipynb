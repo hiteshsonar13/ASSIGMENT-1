{
 "cells": [
  {
   "cell_type": "markdown",
   "id": "d16b59ac",
   "metadata": {},
   "source": [
    "# ASSIGEMENT 1"
   ]
  },
  {
   "cell_type": "markdown",
   "id": "8a258b13",
   "metadata": {},
   "source": [
    "### 1) Create a tuple called data with two values, (1, 2) and (3, 4)"
   ]
  },
  {
   "cell_type": "code",
   "execution_count": 83,
   "id": "e9fbb2aa",
   "metadata": {},
   "outputs": [
    {
     "data": {
      "text/plain": [
       "((1, 2), (3, 4))"
      ]
     },
     "execution_count": 83,
     "metadata": {},
     "output_type": "execute_result"
    }
   ],
   "source": [
    "data = ((1,2),(3,4))\n",
    "data"
   ]
  },
  {
   "cell_type": "code",
   "execution_count": 84,
   "id": "800d15fe",
   "metadata": {},
   "outputs": [
    {
     "data": {
      "text/plain": [
       "tuple"
      ]
     },
     "execution_count": 84,
     "metadata": {},
     "output_type": "execute_result"
    }
   ],
   "source": [
    "type(data)"
   ]
  },
  {
   "cell_type": "markdown",
   "id": "0ebf8a4a",
   "metadata": {},
   "source": [
    "### 2) Create the list [4, 3, 2, 1] and assign it to variable numbers."
   ]
  },
  {
   "cell_type": "code",
   "execution_count": 11,
   "id": "39df299e",
   "metadata": {},
   "outputs": [
    {
     "data": {
      "text/plain": [
       "[4, 3, 2, 1]"
      ]
     },
     "execution_count": 11,
     "metadata": {},
     "output_type": "execute_result"
    }
   ],
   "source": [
    "number=[4,3,2,1]\n",
    "number"
   ]
  },
  {
   "cell_type": "markdown",
   "id": "727217f1",
   "metadata": {},
   "source": [
    "### 3) Create a copy of the number list using (:)"
   ]
  },
  {
   "cell_type": "code",
   "execution_count": 12,
   "id": "c4e5e140",
   "metadata": {},
   "outputs": [
    {
     "data": {
      "text/plain": [
       "[4, 3, 2, 1]"
      ]
     },
     "execution_count": 12,
     "metadata": {},
     "output_type": "execute_result"
    }
   ],
   "source": [
    "number[:]"
   ]
  },
  {
   "cell_type": "markdown",
   "id": "ddd414cb",
   "metadata": {},
   "source": [
    "#### 4) Sort the numbers list in numerical order"
   ]
  },
  {
   "cell_type": "code",
   "execution_count": 22,
   "id": "02ce6d86",
   "metadata": {},
   "outputs": [],
   "source": [
    "number.sort()"
   ]
  },
  {
   "cell_type": "markdown",
   "id": "34bf3f21",
   "metadata": {},
   "source": [
    "### 5) Create a tuple \"cardinal_numbers\" with \"first\", \"second\" and \"third\""
   ]
  },
  {
   "cell_type": "code",
   "execution_count": 88,
   "id": "388ded7b",
   "metadata": {},
   "outputs": [
    {
     "data": {
      "text/plain": [
       "('first', 'second', 'third')"
      ]
     },
     "execution_count": 88,
     "metadata": {},
     "output_type": "execute_result"
    }
   ],
   "source": [
    "cardinal_numbers=('first','second','third')\n",
    "cardinal_numbers"
   ]
  },
  {
   "cell_type": "markdown",
   "id": "967859be",
   "metadata": {},
   "source": [
    "### 6) Display the second object in the tuple"
   ]
  },
  {
   "cell_type": "code",
   "execution_count": 89,
   "id": "9b058219",
   "metadata": {},
   "outputs": [
    {
     "data": {
      "text/plain": [
       "'second'"
      ]
     },
     "execution_count": 89,
     "metadata": {},
     "output_type": "execute_result"
    }
   ],
   "source": [
    "cardinal_numbers[1]"
   ]
  },
  {
   "cell_type": "markdown",
   "id": "667dfcf3",
   "metadata": {},
   "source": [
    "### 7) Unpack the tuple into three strings and display them"
   ]
  },
  {
   "cell_type": "code",
   "execution_count": 90,
   "id": "7942536d",
   "metadata": {},
   "outputs": [
    {
     "name": "stdout",
     "output_type": "stream",
     "text": [
      "first\n",
      "second\n",
      "third\n"
     ]
    }
   ],
   "source": [
    "step1,step2,step3=cardinal_numbers\n",
    "print(step1)\n",
    "print(step2)\n",
    "print(step3)"
   ]
  },
  {
   "cell_type": "markdown",
   "id": "29caf310",
   "metadata": {},
   "source": [
    "### 8) Create a tuple containing the letters of your name from a string"
   ]
  },
  {
   "cell_type": "code",
   "execution_count": 91,
   "id": "7d148757",
   "metadata": {},
   "outputs": [
    {
     "data": {
      "text/plain": [
       "('H', 'I', 'T', 'E', 'S', 'H')"
      ]
     },
     "execution_count": 91,
     "metadata": {},
     "output_type": "execute_result"
    }
   ],
   "source": [
    "my_name=tuple(\"HITESH\")\n",
    "my_name"
   ]
  },
  {
   "cell_type": "markdown",
   "id": "5e7ed8a1",
   "metadata": {},
   "source": [
    "### 9) Check whether or not x is in my_name"
   ]
  },
  {
   "cell_type": "code",
   "execution_count": 92,
   "id": "74aab9f7",
   "metadata": {},
   "outputs": [
    {
     "name": "stdout",
     "output_type": "stream",
     "text": [
      "False\n"
     ]
    }
   ],
   "source": [
    "print(\"X\" in my_name)"
   ]
  },
  {
   "cell_type": "markdown",
   "id": "6d4ede7d",
   "metadata": {},
   "source": [
    "### 10) Check whether or not s is in my_name"
   ]
  },
  {
   "cell_type": "code",
   "execution_count": 93,
   "id": "c8e68819",
   "metadata": {},
   "outputs": [
    {
     "name": "stdout",
     "output_type": "stream",
     "text": [
      "True\n"
     ]
    }
   ],
   "source": [
    "print(\"X\" not in my_name)"
   ]
  }
 ],
 "metadata": {
  "kernelspec": {
   "display_name": "Python 3 (ipykernel)",
   "language": "python",
   "name": "python3"
  },
  "language_info": {
   "codemirror_mode": {
    "name": "ipython",
    "version": 3
   },
   "file_extension": ".py",
   "mimetype": "text/x-python",
   "name": "python",
   "nbconvert_exporter": "python",
   "pygments_lexer": "ipython3",
   "version": "3.10.9"
  }
 },
 "nbformat": 4,
 "nbformat_minor": 5
}
